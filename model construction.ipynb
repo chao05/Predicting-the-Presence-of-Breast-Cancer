{
 "cells": [
  {
   "cell_type": "code",
   "execution_count": 1,
   "metadata": {},
   "outputs": [],
   "source": [
    "import pandas as pd\n",
    "import numpy as np\n",
    "from scipy.io import arff\n",
    "from scipy.stats import iqr\n",
    "\n",
    "import os\n",
    "import math\n",
    "\n",
    "import matplotlib.pyplot as plt\n",
    "import matplotlib.colors as mcolors\n",
    "import seaborn as sns\n",
    "\n",
    "import datetime\n",
    "import calendar\n",
    "\n",
    "from numpy import mean\n",
    "from numpy import std\n",
    "\n",
    "from sklearn.preprocessing import normalize\n",
    "from sklearn.preprocessing import scale\n",
    "from sklearn.feature_selection import f_regression\n",
    "from sklearn.feature_selection import f_classif\n",
    "from sklearn.feature_selection import mutual_info_classif\n",
    "from sklearn.feature_selection import mutual_info_regression\n",
    "from sklearn.feature_selection import RFE\n",
    "from sklearn.discriminant_analysis import LinearDiscriminantAnalysis\n",
    "from sklearn.decomposition import PCA\n",
    "from sklearn.neighbors import KNeighborsClassifier\n",
    "from sklearn.svm import SVC\n",
    "from sklearn.linear_model import LogisticRegression\n",
    "from sklearn.tree import DecisionTreeClassifier\n",
    "from sklearn.ensemble import RandomForestClassifier\n",
    "from sklearn.model_selection import cross_val_score\n",
    "from sklearn.model_selection import learning_curve\n",
    "\n",
    "import joblib"
   ]
  },
  {
   "cell_type": "code",
   "execution_count": 2,
   "metadata": {},
   "outputs": [
    {
     "name": "stdout",
     "output_type": "stream",
     "text": [
      "(116, 10)\n"
     ]
    },
    {
     "data": {
      "text/html": [
       "<div>\n",
       "<style scoped>\n",
       "    .dataframe tbody tr th:only-of-type {\n",
       "        vertical-align: middle;\n",
       "    }\n",
       "\n",
       "    .dataframe tbody tr th {\n",
       "        vertical-align: top;\n",
       "    }\n",
       "\n",
       "    .dataframe thead th {\n",
       "        text-align: right;\n",
       "    }\n",
       "</style>\n",
       "<table border=\"1\" class=\"dataframe\">\n",
       "  <thead>\n",
       "    <tr style=\"text-align: right;\">\n",
       "      <th></th>\n",
       "      <th>Age</th>\n",
       "      <th>BMI</th>\n",
       "      <th>Glucose</th>\n",
       "      <th>Insulin</th>\n",
       "      <th>HOMA</th>\n",
       "      <th>Leptin</th>\n",
       "      <th>Adiponectin</th>\n",
       "      <th>Resistin</th>\n",
       "      <th>MCP.1</th>\n",
       "      <th>Classification</th>\n",
       "    </tr>\n",
       "  </thead>\n",
       "  <tbody>\n",
       "    <tr>\n",
       "      <th>0</th>\n",
       "      <td>48</td>\n",
       "      <td>23.500000</td>\n",
       "      <td>70</td>\n",
       "      <td>2.707</td>\n",
       "      <td>0.467409</td>\n",
       "      <td>8.8071</td>\n",
       "      <td>9.702400</td>\n",
       "      <td>7.99585</td>\n",
       "      <td>417.114</td>\n",
       "      <td>1</td>\n",
       "    </tr>\n",
       "    <tr>\n",
       "      <th>1</th>\n",
       "      <td>83</td>\n",
       "      <td>20.690495</td>\n",
       "      <td>92</td>\n",
       "      <td>3.115</td>\n",
       "      <td>0.706897</td>\n",
       "      <td>8.8438</td>\n",
       "      <td>5.429285</td>\n",
       "      <td>4.06405</td>\n",
       "      <td>468.786</td>\n",
       "      <td>1</td>\n",
       "    </tr>\n",
       "  </tbody>\n",
       "</table>\n",
       "</div>"
      ],
      "text/plain": [
       "   Age        BMI  Glucose  Insulin      HOMA  Leptin  Adiponectin  Resistin  \\\n",
       "0   48  23.500000       70    2.707  0.467409  8.8071     9.702400   7.99585   \n",
       "1   83  20.690495       92    3.115  0.706897  8.8438     5.429285   4.06405   \n",
       "\n",
       "     MCP.1  Classification  \n",
       "0  417.114               1  \n",
       "1  468.786               1  "
      ]
     },
     "execution_count": 2,
     "metadata": {},
     "output_type": "execute_result"
    }
   ],
   "source": [
    "cancer = pd.read_csv('dataR2.csv')\n",
    "print(cancer.shape)\n",
    "cancer.head(2)"
   ]
  },
  {
   "cell_type": "code",
   "execution_count": 3,
   "metadata": {
    "scrolled": true
   },
   "outputs": [
    {
     "name": "stdout",
     "output_type": "stream",
     "text": [
      "Age \n",
      " [24 25 28 29 32 34 35 36 38 40 41 42 43 44 45 46 47 48 49 50 51 52 53 54\n",
      " 55 57 58 59 60 61 62 64 65 66 67 68 69 71 72 73 74 75 76 77 78 81 82 83\n",
      " 85 86 89] \n",
      "\n",
      "BMI \n",
      " [18.37       18.67       19.13265306 19.56       20.26       20.69049454\n",
      " 20.76       20.82999519 20.83       20.9566075  21.08281329 21.11111111\n",
      " 21.30394858 21.35991456 21.36752137 21.47       21.51385851 22.\n",
      " 22.03       22.21       22.22222222 22.4996371  22.65625    22.7\n",
      " 22.83287935 22.85445769 22.86       22.89281998 23.         23.01\n",
      " 23.12467037 23.14049587 23.34       23.5        23.62       23.8\n",
      " 24.21875    24.24242424 24.74       25.3        25.51020408 25.59\n",
      " 25.7        25.9        26.34929208 26.5625     26.6        26.66666667\n",
      " 26.6727633  26.84       26.85       27.1        27.18       27.2\n",
      " 27.3        27.63605442 27.68877813 27.7        27.88761707 27.91551882\n",
      " 28.125      28.44444444 28.57667585 28.65013774 28.67262608 29.13631634\n",
      " 29.15451895 29.2184076  29.296875   29.38475666 29.4        29.60676726\n",
      " 29.666548   29.77777778 30.27681661 30.3        30.48       30.48315806\n",
      " 30.8012487  30.83653053 30.91557669 31.21748179 31.23140988 31.2385898\n",
      " 31.25       31.44654088 31.64036818 31.97501487 32.03895937 32.05\n",
      " 32.27078777 32.46191136 32.5        33.18       34.17489    34.42217362\n",
      " 34.5297228  34.83814777 35.09270153 35.2507611  35.56       35.58792924\n",
      " 35.85581466 36.05       36.21227888 36.51263743 36.7901662  37.03560819\n",
      " 37.109375   38.57875854] \n",
      "\n",
      "Glucose \n",
      " [ 60  70  74  75  76  77  78  79  80  82  83  84  85  86  87  88  89  90\n",
      "  91  92  93  94  95  96  97  98  99 100 101 102 103 104 105 106 108 110\n",
      " 112 114 116 118 119 128 131 134 138 139 152 196 199 201] \n",
      "\n",
      "Insulin \n",
      " [ 2.432  2.54   2.64   2.707  2.74   2.82   2.869  2.999  3.012  3.115\n",
      "  3.188  3.226  3.33   3.35   3.42   3.44   3.469  3.482  3.508  3.549\n",
      "  3.73   3.855  3.881  4.09   4.172  4.181  4.328  4.345  4.364  4.376\n",
      "  4.42   4.427  4.462  4.498  4.53   4.56   4.58   4.69   4.713  4.902\n",
      "  4.952  5.138  5.197  5.261  5.376  5.43   5.537  5.636  5.646  5.663\n",
      "  5.7    5.73   5.75   5.782  5.81   5.819  6.03   6.042  6.107  6.2\n",
      "  6.47   6.524  6.59   6.683  6.703  6.76   6.817  6.862  7.01   7.553\n",
      "  8.079  8.15   8.34   8.396  8.576  8.808  9.208  9.245  9.669 10.175\n",
      " 10.395 10.491 10.555 10.704 10.949 11.91  12.162 12.305 12.548 13.852\n",
      " 14.026 14.07  14.649 15.533 15.89  16.582 16.635 18.077 18.2   19.91\n",
      " 21.699 22.033 23.194 24.887 26.211 28.677 30.13  30.212 36.94  41.611\n",
      " 41.894 51.814 58.46 ] \n",
      "\n",
      "HOMA \n",
      " [ 0.46740867  0.507936    0.519184    0.56388     0.570392    0.59\n",
      "  0.60550747  0.61272493  0.61789013  0.6538048   0.6674356   0.6879706\n",
      "  0.69614267  0.70689733  0.72755813  0.73208693  0.732193    0.742368\n",
      "  0.755688    0.78065067  0.79018187  0.79125733  0.80154333  0.8053864\n",
      "  0.82727067  0.832352    0.84567693  0.89078733  0.9067072   0.92171933\n",
      "  0.96027333  0.972138    1.0011016   1.00851147  1.00965107  1.01383947\n",
      "  1.03739367  1.046286    1.0566016   1.06967     1.08963767  1.09960053\n",
      "  1.1006464   1.1174      1.13392913  1.14478     1.14543613  1.203832\n",
      "  1.229214    1.23282767  1.245642    1.30042667  1.30486667  1.30539453\n",
      "  1.33        1.341324    1.370998    1.37788     1.38399733  1.4026256\n",
      "  1.4066068   1.43223547  1.44970933  1.513374    1.55992     1.56177\n",
      "  1.6         1.65877413  1.75261107  1.8404096   1.84629013  1.86288587\n",
      "  1.8732508   1.88320133  2.05239     2.098344    2.24162527  2.2485936\n",
      "  2.3464512   2.3498848   2.38502     2.5101466   2.53493167  2.62828267\n",
      "  2.62960233  2.63353667  2.85311933  2.871792    2.94041467  3.0099796\n",
      "  3.071407    3.262364    3.4851632   3.495982    3.775036    3.79014433\n",
      "  3.86978807  4.45899333  4.468268    4.66890667  4.9242264   5.09185613\n",
      "  5.27176247  5.68541507  5.9699204   6.4834952   6.777364    7.0029234\n",
      "  7.111918    7.83620533  8.22598307  9.73600733 13.22733227 15.28534133\n",
      " 20.6307338  25.05034187] \n",
      "\n",
      "Leptin \n",
      " [ 4.311   4.47    6.3339  6.633   6.6994  6.8317  6.964   7.6476  7.65\n",
      "  7.7529  7.85    8.0163  8.438   8.6874  8.8071  8.8438  8.88    9.62\n",
      "  9.6994  9.8     9.8648  9.8827 10.16   10.2809 10.39   11.0816 11.2406\n",
      " 12.1905 12.2617 12.331  12.45   12.6757 12.87   13.08   13.74   14.09\n",
      " 14.3224 14.57   14.7485 14.9037 14.9084 15.1248 15.145  15.26   15.5325\n",
      " 16.2247 16.7353 17.022  17.127  17.87   17.9393 17.9973 18.1314 18.16\n",
      " 18.69   19.0653 19.0826 20.092  20.45   21.2117 21.778  21.78   21.7863\n",
      " 21.9033 22.8884 23.8479 24.2998 24.846  24.96   25.7816 26.5166 26.65\n",
      " 26.8081 27.1841 28.562  28.7502 29.2739 30.7729 31.0385 31.1233 31.2128\n",
      " 31.6453 32.58   33.1612 35.59   35.891  37.2234 37.843  38.8066 39.2134\n",
      " 39.9802 41.4064 42.3914 44.0217 44.7059 45.272  45.6196 45.9624 46.076\n",
      " 46.6401 47.647  49.3727 50.53   50.6094 51.3387 53.4997 54.68   56.502\n",
      " 61.48   65.926  68.5102 70.8824 74.7069 83.4821 89.27   90.28  ] \n",
      "\n",
      "Adiponectin \n",
      " [ 1.65602   2.19428   2.36495   2.78491   3.19209   3.335665  3.70523\n",
      "  3.71009   3.74122   3.886145  4.104105  4.138025  4.230105  4.267105\n",
      "  4.294705  4.617125  4.667645  4.77192   4.783985  4.7942    4.81924\n",
      "  4.935635  5.065915  5.1       5.288025  5.357135  5.429285  5.46262\n",
      "  5.47817   5.4861    5.589865  5.80762   6.160995  6.209635  6.26854\n",
      "  6.420295  6.644245  6.695585  6.78387   6.796985  6.966895  7.16956\n",
      "  7.28287   7.36996   7.53955   7.64276   7.652055  7.65222   7.780255\n",
      "  7.901685  7.9317    8.01      8.12555   8.13      8.237405  8.2863\n",
      "  8.300955  8.40443   8.412175  8.42996   8.462915  8.574655  8.6\n",
      "  9.000805  9.048185  9.16      9.34663   9.349775  9.7024    9.73138\n",
      "  9.75326   9.76      9.92365  10.06     10.22231  10.26266  10.35526\n",
      " 10.358725 10.567295 10.636525 10.73174  10.79394  11.018455 11.236235\n",
      " 11.57899  11.78796  11.9      12.1      12.71896  12.76     13.11\n",
      " 13.25132  13.494865 13.67975  14.11     16.1      16.44048  16.67\n",
      " 17.86     17.95     18.55     20.03     20.32     20.37     21.056625\n",
      " 21.42     21.57     21.823745 22.43204  22.54     23.67     26.72\n",
      " 33.75     36.06     38.04    ] \n",
      "\n",
      "Resistin \n",
      " [ 3.21     3.27     3.29175  3.32     4.06405  4.19     4.2075   4.2989\n",
      "  4.35     4.49685  4.53     4.58     4.62     4.6638   4.82     5.06\n",
      "  5.1042   5.14     5.2633   5.31     5.57055  5.62592  5.68     5.768\n",
      "  6.28445  6.70188  6.7052   6.71026  6.85     6.89235  6.92     7.0913\n",
      "  7.16514  7.32     7.5767   7.64     7.84     7.99585  8.04375  8.2049\n",
      "  8.4156   8.49395  8.70448  8.89     9.1539   9.27715  9.35     9.6135\n",
      "  9.9542  10.15726 10.19299 10.26309 10.3176  10.33    10.34455 10.37518\n",
      " 10.57635 10.69548 10.96    11.50005 11.55492 11.73    11.774   11.78388\n",
      " 11.78796 12.06534 12.766   12.9361  13.56    13.68392 13.74244 13.91245\n",
      " 13.97399 14.76966 14.91922 15.55625 15.69876 15.72187 15.73606 16.1\n",
      " 16.11032 16.43706 16.48508 17.10223 17.2615  17.37615 17.55503 18.35574\n",
      " 19.46324 19.94687 20.2535  20.4685  20.76801 21.44366 22.03703 22.32024\n",
      " 22.94254 23.03306 23.03408 23.1177  23.3819  24.24591 24.3701  24.6033\n",
      " 26.0136  27.8325  28.0323  29.5583  31.6904  38.6531  42.7447  49.24184\n",
      " 53.6308  53.6717  55.2153  82.1    ] \n",
      "\n",
      "MCP.1 \n",
      " [  45.843   63.61    90.09    90.6     99.45   136.855  165.02   174.8\n",
      "  191.72   193.87   195.94   198.4    199.055  200.976  206.802  209.19\n",
      "  209.749  215.769  218.28   220.66   225.88   232.006  232.018  244.75\n",
      "  252.449  256.001  263.499  268.23   269.487  270.142  280.694  293.123\n",
      "  301.21   312.     313.73   314.05   318.302  321.919  330.16   335.393\n",
      "  353.568  354.6    355.31   358.624  359.232  377.227  378.996  382.955\n",
      "  392.46   395.976  396.021  396.648  407.206  417.114  426.175  444.395\n",
      "  448.799  468.786  473.859  481.949  483.377  488.829  513.66   518.586\n",
      "  530.41   534.224  552.444  554.697  572.401  572.783  573.63   581.313\n",
      "  585.307  586.173  588.46   602.486  618.272  621.273  632.22   634.602\n",
      "  635.049  638.261  655.834  656.393  667.928  695.754  698.789  703.973\n",
      "  713.239  733.797  737.672  738.034  764.667  773.92   775.322  783.796\n",
      "  788.902  799.898  806.724  864.968  887.16   904.981  910.489  923.886\n",
      "  928.22   960.246  994.316 1041.843 1078.359 1102.11  1227.91  1256.083\n",
      " 1698.44 ] \n",
      "\n",
      "Classification \n",
      " [1 2] \n",
      "\n"
     ]
    }
   ],
   "source": [
    "def print_unique(df):\n",
    "    for col in df.columns:\n",
    "        print(col, '\\n', df[col].sort_values().unique(), '\\n')\n",
    "        \n",
    "print_unique(cancer)"
   ]
  },
  {
   "cell_type": "code",
   "execution_count": 4,
   "metadata": {
    "scrolled": true
   },
   "outputs": [
    {
     "data": {
      "text/html": [
       "<div>\n",
       "<style scoped>\n",
       "    .dataframe tbody tr th:only-of-type {\n",
       "        vertical-align: middle;\n",
       "    }\n",
       "\n",
       "    .dataframe tbody tr th {\n",
       "        vertical-align: top;\n",
       "    }\n",
       "\n",
       "    .dataframe thead th {\n",
       "        text-align: right;\n",
       "    }\n",
       "</style>\n",
       "<table border=\"1\" class=\"dataframe\">\n",
       "  <thead>\n",
       "    <tr style=\"text-align: right;\">\n",
       "      <th></th>\n",
       "      <th>n_unique</th>\n",
       "      <th>dtype</th>\n",
       "      <th>n_missing</th>\n",
       "      <th>pct_missing</th>\n",
       "    </tr>\n",
       "  </thead>\n",
       "  <tbody>\n",
       "    <tr>\n",
       "      <th>Age</th>\n",
       "      <td>51</td>\n",
       "      <td>int64</td>\n",
       "      <td>0</td>\n",
       "      <td>0.0</td>\n",
       "    </tr>\n",
       "    <tr>\n",
       "      <th>BMI</th>\n",
       "      <td>110</td>\n",
       "      <td>float64</td>\n",
       "      <td>0</td>\n",
       "      <td>0.0</td>\n",
       "    </tr>\n",
       "    <tr>\n",
       "      <th>Glucose</th>\n",
       "      <td>50</td>\n",
       "      <td>int64</td>\n",
       "      <td>0</td>\n",
       "      <td>0.0</td>\n",
       "    </tr>\n",
       "    <tr>\n",
       "      <th>Insulin</th>\n",
       "      <td>113</td>\n",
       "      <td>float64</td>\n",
       "      <td>0</td>\n",
       "      <td>0.0</td>\n",
       "    </tr>\n",
       "    <tr>\n",
       "      <th>HOMA</th>\n",
       "      <td>116</td>\n",
       "      <td>float64</td>\n",
       "      <td>0</td>\n",
       "      <td>0.0</td>\n",
       "    </tr>\n",
       "    <tr>\n",
       "      <th>Leptin</th>\n",
       "      <td>116</td>\n",
       "      <td>float64</td>\n",
       "      <td>0</td>\n",
       "      <td>0.0</td>\n",
       "    </tr>\n",
       "    <tr>\n",
       "      <th>Adiponectin</th>\n",
       "      <td>115</td>\n",
       "      <td>float64</td>\n",
       "      <td>0</td>\n",
       "      <td>0.0</td>\n",
       "    </tr>\n",
       "    <tr>\n",
       "      <th>Resistin</th>\n",
       "      <td>116</td>\n",
       "      <td>float64</td>\n",
       "      <td>0</td>\n",
       "      <td>0.0</td>\n",
       "    </tr>\n",
       "    <tr>\n",
       "      <th>MCP.1</th>\n",
       "      <td>113</td>\n",
       "      <td>float64</td>\n",
       "      <td>0</td>\n",
       "      <td>0.0</td>\n",
       "    </tr>\n",
       "    <tr>\n",
       "      <th>Classification</th>\n",
       "      <td>2</td>\n",
       "      <td>int64</td>\n",
       "      <td>0</td>\n",
       "      <td>0.0</td>\n",
       "    </tr>\n",
       "  </tbody>\n",
       "</table>\n",
       "</div>"
      ],
      "text/plain": [
       "                n_unique    dtype  n_missing  pct_missing\n",
       "Age                   51    int64          0          0.0\n",
       "BMI                  110  float64          0          0.0\n",
       "Glucose               50    int64          0          0.0\n",
       "Insulin              113  float64          0          0.0\n",
       "HOMA                 116  float64          0          0.0\n",
       "Leptin               116  float64          0          0.0\n",
       "Adiponectin          115  float64          0          0.0\n",
       "Resistin             116  float64          0          0.0\n",
       "MCP.1                113  float64          0          0.0\n",
       "Classification         2    int64          0          0.0"
      ]
     },
     "execution_count": 4,
     "metadata": {},
     "output_type": "execute_result"
    }
   ],
   "source": [
    "def snapshot(df):\n",
    "    n_missing = pd.DataFrame(df.isnull().sum(), columns = ['n_missing'])\n",
    "    pct_missing = pd.DataFrame(round(df.isnull().sum() / df.shape[0], 2), columns = ['pct_missing'])\n",
    "    dtype = pd.DataFrame(df.dtypes, columns = ['dtype'])\n",
    "    n_unique = []\n",
    "    for col in df.columns:\n",
    "        n_unique.append(df[col].nunique())    \n",
    "    return pd.DataFrame(n_unique, index = df.columns, columns = ['n_unique']).join(dtype).join(n_missing).join(pct_missing)\n",
    "\n",
    "snapshot = snapshot(cancer)\n",
    "snapshot"
   ]
  },
  {
   "cell_type": "code",
   "execution_count": 5,
   "metadata": {},
   "outputs": [
    {
     "data": {
      "text/plain": [
       "array([  2,  50,  51, 110, 113, 115, 116], dtype=int64)"
      ]
     },
     "execution_count": 5,
     "metadata": {},
     "output_type": "execute_result"
    }
   ],
   "source": [
    "np.sort(snapshot['n_unique'].unique())"
   ]
  },
  {
   "cell_type": "code",
   "execution_count": 6,
   "metadata": {},
   "outputs": [],
   "source": [
    "features = cancer.columns.drop('Classification')"
   ]
  },
  {
   "cell_type": "code",
   "execution_count": 7,
   "metadata": {},
   "outputs": [],
   "source": [
    "def plot_single_categorical(df, col):\n",
    "    plt.figure(figsize = (4, 4))\n",
    "    df[col].value_counts().plot.bar(color = mcolors.TABLEAU_COLORS)\n",
    "    sns.despine(top = True)\n",
    "    \n",
    "    n_level = df[col].nunique()\n",
    "    for x_coor in range(n_level):\n",
    "        plt.annotate(df[col].value_counts().iloc[x_coor], \n",
    "                     xy = (x_coor, \n",
    "                           df[col].value_counts().iloc[x_coor] + df[col].value_counts().iloc[0]/50))\n",
    "    \n",
    "    plt.xticks(rotation = 0)\n",
    "    plt.grid()\n",
    "    plt.title(col)\n",
    "    plt.show()"
   ]
  },
  {
   "cell_type": "code",
   "execution_count": 8,
   "metadata": {
    "scrolled": true
   },
   "outputs": [
    {
     "data": {
      "image/png": "[encoded data removed]",
      "text/plain": [
       "<Figure size 288x288 with 1 Axes>"
      ]
     },
     "metadata": {
      "needs_background": "light"
     },
     "output_type": "display_data"
    }
   ],
   "source": [
    "plot_single_categorical(cancer, 'Classification')"
   ]
  },
  {
   "cell_type": "code",
   "execution_count": 9,
   "metadata": {},
   "outputs": [],
   "source": [
    "def feat_significance(X, y, n_feat_data_type, features):\n",
    "    mi_df = pd.DataFrame(mutual_info_classif(X, y, random_state = 42), index = X.columns, columns = ['score'])\n",
    "    mi_df = mi_df.sort_values(by = 'score', ascending = False)\n",
    "    \n",
    "    def color_cell(s):    \n",
    "        background = []\n",
    "        for i in range(len(s.index)):\n",
    "            if s.index[i] in features:\n",
    "                background.append('background-color: yellow')\n",
    "            else:\n",
    "                background.append('')\n",
    "        return background\n",
    "    \n",
    "    if n_feat_data_type == 1:\n",
    "        return mi_df\n",
    "    else:\n",
    "        return mi_df.style.apply(color_cell, axis = 0)"
   ]
  },
  {
   "cell_type": "code",
   "execution_count": 11,
   "metadata": {
    "scrolled": true
   },
   "outputs": [
    {
     "data": {
      "text/html": [
       "<div>\n",
       "<style scoped>\n",
       "    .dataframe tbody tr th:only-of-type {\n",
       "        vertical-align: middle;\n",
       "    }\n",
       "\n",
       "    .dataframe tbody tr th {\n",
       "        vertical-align: top;\n",
       "    }\n",
       "\n",
       "    .dataframe thead th {\n",
       "        text-align: right;\n",
       "    }\n",
       "</style>\n",
       "<table border=\"1\" class=\"dataframe\">\n",
       "  <thead>\n",
       "    <tr style=\"text-align: right;\">\n",
       "      <th></th>\n",
       "      <th>score</th>\n",
       "    </tr>\n",
       "  </thead>\n",
       "  <tbody>\n",
       "    <tr>\n",
       "      <th>Age</th>\n",
       "      <td>0.134886</td>\n",
       "    </tr>\n",
       "    <tr>\n",
       "      <th>Glucose</th>\n",
       "      <td>0.069120</td>\n",
       "    </tr>\n",
       "    <tr>\n",
       "      <th>Resistin</th>\n",
       "      <td>0.057669</td>\n",
       "    </tr>\n",
       "    <tr>\n",
       "      <th>HOMA</th>\n",
       "      <td>0.016421</td>\n",
       "    </tr>\n",
       "    <tr>\n",
       "      <th>BMI</th>\n",
       "      <td>0.000000</td>\n",
       "    </tr>\n",
       "    <tr>\n",
       "      <th>Insulin</th>\n",
       "      <td>0.000000</td>\n",
       "    </tr>\n",
       "    <tr>\n",
       "      <th>Leptin</th>\n",
       "      <td>0.000000</td>\n",
       "    </tr>\n",
       "    <tr>\n",
       "      <th>Adiponectin</th>\n",
       "      <td>0.000000</td>\n",
       "    </tr>\n",
       "    <tr>\n",
       "      <th>MCP.1</th>\n",
       "      <td>0.000000</td>\n",
       "    </tr>\n",
       "  </tbody>\n",
       "</table>\n",
       "</div>"
      ],
      "text/plain": [
       "                score\n",
       "Age          0.134886\n",
       "Glucose      0.069120\n",
       "Resistin     0.057669\n",
       "HOMA         0.016421\n",
       "BMI          0.000000\n",
       "Insulin      0.000000\n",
       "Leptin       0.000000\n",
       "Adiponectin  0.000000\n",
       "MCP.1        0.000000"
      ]
     },
     "execution_count": 11,
     "metadata": {},
     "output_type": "execute_result"
    }
   ],
   "source": [
    "feat_score = feat_significance(cancer[features], cancer['Classification'], 1, '')\n",
    "feat_score"
   ]
  },
  {
   "cell_type": "code",
   "execution_count": 14,
   "metadata": {},
   "outputs": [],
   "source": [
    "X_scaled = pd.DataFrame(scale(cancer[features]), columns = features)\n",
    "y = cancer['Classification']"
   ]
  },
  {
   "cell_type": "code",
   "execution_count": 16,
   "metadata": {},
   "outputs": [],
   "source": [
    "lr = LogisticRegression(random_state = 42)\n",
    "knn = KNeighborsClassifier()\n",
    "svc = SVC(random_state = 42)\n",
    "tree = DecisionTreeClassifier(max_features = 'auto', random_state = 42)\n",
    "alg_dict = {lr: 'lr', svc: 'svc', knn: 'knn', tree: 'tree'}"
   ]
  },
  {
   "cell_type": "code",
   "execution_count": 17,
   "metadata": {},
   "outputs": [],
   "source": [
    "def num_feat_perform(algorithm, feat_ordered, X_ordered, y, metric):\n",
    "    scores = []\n",
    "    for i in range(1, len(feat_ordered)+1):\n",
    "        pred_data = X_ordered.iloc[:, 0:i]\n",
    "        score = mean(cross_val_score(algorithm, pred_data, y, scoring = metric, cv = 5))\n",
    "        scores.append(score)\n",
    "\n",
    "    n_features = len(feat_ordered)\n",
    "    plt.plot(np.arange(n_features), scores, marker = 'x')\n",
    "    plt.xticks(np.arange(n_features), np.arange(1, n_features + 1))\n",
    "    for i in range(n_features):\n",
    "        plt.text(i, scores[i], s = round(scores[i], 2))\n",
    "    plt.grid()\n",
    "    plt.xlabel('no. of features')\n",
    "    plt.ylabel('score')\n",
    "    \n",
    "def num_feat_multi_alg(alg_dict, feat_ordered, X_ordered, y, metric):\n",
    "    n_algorithm = len(alg_dict)\n",
    "    algorithms = list(alg_dict.keys())\n",
    "    alg_names = list(alg_dict.values())\n",
    "    if n_algorithm <= 2:\n",
    "        nrows = 1\n",
    "        ncols = n_algorithm\n",
    "        fig = plt.figure(figsize = (ncols * 6, 4))\n",
    "    else:\n",
    "        nrows = math.ceil(n_algorithm / 2)\n",
    "        ncols = 2\n",
    "        fig = plt.figure(figsize = (12, nrows * 4))\n",
    "\n",
    "    for n in range(n_algorithm):\n",
    "        ax = fig.add_subplot(nrows, ncols, n + 1)\n",
    "        ax = num_feat_perform(algorithms[n], feat_ordered, X_ordered, y, metric)\n",
    "        plt.title(f\"'{alg_names[n]}' performance by '{metric}'\")\n",
    "        \n",
    "    plt.tight_layout()\n",
    "    plt.show()"
   ]
  },
  {
   "cell_type": "code",
   "execution_count": 18,
   "metadata": {},
   "outputs": [
    {
     "data": {
      "image/png": "[encoded data removed]",
      "text/plain": [
       "<Figure size 864x576 with 4 Axes>"
      ]
     },
     "metadata": {
      "needs_background": "light"
     },
     "output_type": "display_data"
    }
   ],
   "source": [
    "num_feat_multi_alg(alg_dict, feat_score.index, X_scaled[feat_score.index], y, 'f1')"
   ]
  },
  {
   "cell_type": "code",
   "execution_count": 19,
   "metadata": {},
   "outputs": [],
   "source": [
    "def plot_learning_curve(train_scores, test_scores, train_sizes):\n",
    "    train_scores = pd.DataFrame(train_scores, index = train_sizes, columns = ['split1', 'split2', 'split3', 'split4', 'split5'])\n",
    "    train_scores = train_scores.join(pd.Series(train_scores.mean(axis = 1), name = 'mean'))\n",
    "\n",
    "    test_scores = pd.DataFrame(test_scores, index = train_sizes, columns = ['split1', 'split2', 'split3', 'split4', 'split5'])\n",
    "    test_scores = test_scores.join(pd.Series(test_scores.mean(axis = 1), name = 'mean'))\n",
    "\n",
    "    plt.plot(train_scores['mean'], label = 'train_scores')\n",
    "    plt.plot(test_scores['mean'], label = 'test_scores')\n",
    "    plt.legend()\n",
    "    plt.grid()\n",
    "    plt.xlabel('no. of training samples')\n",
    "    \n",
    "def two_metric_graph(algorithm, X, y):\n",
    "    train_sizes = np.linspace(start = 20, stop = X.shape[0] * 0.8, num = 6, dtype = int)\n",
    "    fig = plt.figure(figsize = (10, 4))\n",
    "\n",
    "    for i, metric in enumerate(['f1', 'balanced_accuracy']):\n",
    "        train_sizes_abs, train_scores, test_scores = learning_curve(algorithm, X, y, train_sizes = train_sizes, \n",
    "                                                                    scoring = metric, cv = 5, shuffle = True, \n",
    "                                                                    random_state = 42)\n",
    "        ax = fig.add_subplot(1, 2, i + 1)\n",
    "        ax = plot_learning_curve(train_scores, test_scores, train_sizes)\n",
    "        plt.title(f\"'performance by '{metric}'\")\n",
    "\n",
    "    plt.tight_layout()\n",
    "    plt.show()"
   ]
  },
  {
   "cell_type": "code",
   "execution_count": 21,
   "metadata": {
    "scrolled": true
   },
   "outputs": [
    {
     "data": {
      "image/png": "[encoded data removed]",
      "text/plain": [
       "<Figure size 720x288 with 2 Axes>"
      ]
     },
     "metadata": {
      "needs_background": "light"
     },
     "output_type": "display_data"
    }
   ],
   "source": [
    "two_metric_graph(svc, X_scaled[feat_score.index[0:3]], y)"
   ]
  },
  {
   "cell_type": "code",
   "execution_count": 23,
   "metadata": {},
   "outputs": [
    {
     "data": {
      "text/plain": [
       "['svc.joblib']"
      ]
     },
     "execution_count": 23,
     "metadata": {},
     "output_type": "execute_result"
    }
   ],
   "source": [
    "svc.fit(X_scaled[feat_score.index[0:3]], y)\n",
    "joblib.dump(svc, 'svc.joblib')"
   ]
  }
 ],
 "metadata": {
  "kernelspec": {
   "display_name": "Python 3",
   "language": "python",
   "name": "python3"
  },
  "language_info": {
   "codemirror_mode": {
    "name": "ipython",
    "version": 3
   },
   "file_extension": ".py",
   "mimetype": "text/x-python",
   "name": "python",
   "nbconvert_exporter": "python",
   "pygments_lexer": "ipython3",
   "version": "3.7.7"
  }
 },
 "nbformat": 4,
 "nbformat_minor": 4
}
